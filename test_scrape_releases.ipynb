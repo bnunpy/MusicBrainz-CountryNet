{
 "cells": [
  {
   "cell_type": "markdown",
   "id": "54c388e6",
   "metadata": {},
   "source": [
    "## Imports"
   ]
  },
  {
   "cell_type": "code",
   "execution_count": 1,
   "id": "26bf62bd",
   "metadata": {},
   "outputs": [],
   "source": [
    "import pandas as pd\n",
    "#import numpy as np\n",
    "\n",
    "import requests\n",
    "import urllib\n",
    "#from bs4 import BeautifulSoup\n",
    "#import itertools\n",
    "#import collections\n",
    "import re\n",
    "#import pickle\n",
    "import time\n",
    "import random\n",
    "\n",
    "#import networkx as nx\n",
    "#import matplotlib.pyplot as plt"
   ]
  },
  {
   "cell_type": "markdown",
   "id": "756fc6cc",
   "metadata": {},
   "source": [
    "## Functions"
   ]
  },
  {
   "cell_type": "code",
   "execution_count": 2,
   "id": "d59e49ea",
   "metadata": {},
   "outputs": [],
   "source": [
    "# recursive function to grab the underlying html text of a webpage\n",
    "def grab_url_text(theurl,remaining_tries=5):\n",
    "    # These headers help to make the computer look like a legitimate web browser and not a bot\n",
    "    user_agent = 'Mozilla/5.0 (Windows; U; Windows NT 5.1; en-US; rv:1.9.0.7) Gecko/2009021910 Firefox/3.0.7'\n",
    "    headers={'User-Agent':user_agent,} \n",
    "    \n",
    "    #print('Analyzing: '+theurl+' ... ',end='')\n",
    "    try:\n",
    "        # these lines are the meat of the program - they grab the underlying html textfile that describes the webpage\n",
    "        r = urllib.request.Request(theurl,data=None,headers=headers)\n",
    "        f = urllib.request.urlopen(r)\n",
    "        s = f.read()\n",
    "        s = s.decode('utf-8') # the string enters as a byte string which needs to be decoded into a useful string format UTF-8\n",
    "        f.close()\n",
    "        #print('done!')\n",
    "        return s\n",
    "    except: # if there is a problem, print the error and try again\n",
    "        print('\\n\\t!!! Connection Issue')\n",
    "        if remaining_tries > 0:\n",
    "            time.sleep(2)\n",
    "            grab_url_text(theurl,remaining_tries-1)\n",
    "        else:\n",
    "            raise"
   ]
  },
  {
   "cell_type": "markdown",
   "id": "a6c837a4",
   "metadata": {},
   "source": [
    "## Main script"
   ]
  },
  {
   "cell_type": "markdown",
   "id": "44df1bb8",
   "metadata": {},
   "source": [
    "### Read artists csv\n",
    "#### Note: it's sorted in descending order by listeners_lastfm"
   ]
  },
  {
   "cell_type": "code",
   "execution_count": 3,
   "id": "61573c2c",
   "metadata": {},
   "outputs": [],
   "source": [
    "df = pd.read_csv('artists_to_100000_listens.csv')"
   ]
  },
  {
   "cell_type": "code",
   "execution_count": 4,
   "id": "1fca8729",
   "metadata": {},
   "outputs": [],
   "source": [
    "df = df.drop(labels=['artist_lastfm','country_mb','country_lastfm','tags_lastfm','scrobbles_lastfm'], axis=1)"
   ]
  },
  {
   "cell_type": "code",
   "execution_count": 7,
   "id": "305571fe",
   "metadata": {},
   "outputs": [
    {
     "data": {
      "text/html": [
       "<div>\n",
       "<style scoped>\n",
       "    .dataframe tbody tr th:only-of-type {\n",
       "        vertical-align: middle;\n",
       "    }\n",
       "\n",
       "    .dataframe tbody tr th {\n",
       "        vertical-align: top;\n",
       "    }\n",
       "\n",
       "    .dataframe thead th {\n",
       "        text-align: right;\n",
       "    }\n",
       "</style>\n",
       "<table border=\"1\" class=\"dataframe\">\n",
       "  <thead>\n",
       "    <tr style=\"text-align: right;\">\n",
       "      <th></th>\n",
       "      <th>mbid</th>\n",
       "      <th>artist_mb</th>\n",
       "      <th>tags_mb</th>\n",
       "      <th>listeners_lastfm</th>\n",
       "      <th>ambiguous_artist</th>\n",
       "    </tr>\n",
       "  </thead>\n",
       "  <tbody>\n",
       "    <tr>\n",
       "      <th>0</th>\n",
       "      <td>cc197bad-dc9c-440d-a5b5-d52ba2e14234</td>\n",
       "      <td>Coldplay</td>\n",
       "      <td>rock; pop; alternative rock; british; uk; brit...</td>\n",
       "      <td>5381567</td>\n",
       "      <td>False</td>\n",
       "    </tr>\n",
       "    <tr>\n",
       "      <th>1</th>\n",
       "      <td>a74b1b7f-71a5-4011-9441-d0b5e4122711</td>\n",
       "      <td>Radiohead</td>\n",
       "      <td>rock; electronic; alternative rock; british; g...</td>\n",
       "      <td>4732528</td>\n",
       "      <td>False</td>\n",
       "    </tr>\n",
       "    <tr>\n",
       "      <th>2</th>\n",
       "      <td>8bfac288-ccc5-448d-9573-c33ea2aa5c30</td>\n",
       "      <td>Red Hot Chili Peppers</td>\n",
       "      <td>rock; alternative rock; 80s; 90s; rap; metal; ...</td>\n",
       "      <td>4620835</td>\n",
       "      <td>False</td>\n",
       "    </tr>\n",
       "    <tr>\n",
       "      <th>3</th>\n",
       "      <td>73e5e69d-3554-40d8-8516-00cb38737a1c</td>\n",
       "      <td>Rihanna</td>\n",
       "      <td>pop; dance; hip hop; reggae; contemporary r b;...</td>\n",
       "      <td>4558193</td>\n",
       "      <td>False</td>\n",
       "    </tr>\n",
       "    <tr>\n",
       "      <th>4</th>\n",
       "      <td>b95ce3ff-3d05-4e87-9e01-c97b66af13d4</td>\n",
       "      <td>Eminem</td>\n",
       "      <td>turkish; rap; american; hip-hop; hip hop; hiph...</td>\n",
       "      <td>4517997</td>\n",
       "      <td>False</td>\n",
       "    </tr>\n",
       "  </tbody>\n",
       "</table>\n",
       "</div>"
      ],
      "text/plain": [
       "                                   mbid              artist_mb  \\\n",
       "0  cc197bad-dc9c-440d-a5b5-d52ba2e14234               Coldplay   \n",
       "1  a74b1b7f-71a5-4011-9441-d0b5e4122711              Radiohead   \n",
       "2  8bfac288-ccc5-448d-9573-c33ea2aa5c30  Red Hot Chili Peppers   \n",
       "3  73e5e69d-3554-40d8-8516-00cb38737a1c                Rihanna   \n",
       "4  b95ce3ff-3d05-4e87-9e01-c97b66af13d4                 Eminem   \n",
       "\n",
       "                                             tags_mb  listeners_lastfm  \\\n",
       "0  rock; pop; alternative rock; british; uk; brit...           5381567   \n",
       "1  rock; electronic; alternative rock; british; g...           4732528   \n",
       "2  rock; alternative rock; 80s; 90s; rap; metal; ...           4620835   \n",
       "3  pop; dance; hip hop; reggae; contemporary r b;...           4558193   \n",
       "4  turkish; rap; american; hip-hop; hip hop; hiph...           4517997   \n",
       "\n",
       "   ambiguous_artist  \n",
       "0             False  \n",
       "1             False  \n",
       "2             False  \n",
       "3             False  \n",
       "4             False  "
      ]
     },
     "execution_count": 7,
     "metadata": {},
     "output_type": "execute_result"
    }
   ],
   "source": [
    "df.head()"
   ]
  },
  {
   "cell_type": "code",
   "execution_count": 8,
   "id": "fbafc3d6",
   "metadata": {},
   "outputs": [
    {
     "data": {
      "text/plain": [
       "10911"
      ]
     },
     "execution_count": 8,
     "metadata": {},
     "output_type": "execute_result"
    }
   ],
   "source": [
    "len(df)"
   ]
  },
  {
   "cell_type": "markdown",
   "id": "44885cc2",
   "metadata": {},
   "source": [
    "### Scrape!"
   ]
  },
  {
   "cell_type": "code",
   "execution_count": 10,
   "id": "10a29eca",
   "metadata": {},
   "outputs": [
    {
     "name": "stdout",
     "output_type": "stream",
     "text": [
      "2600 (page: 1/1) out of 2862 artists done.\n",
      "\t!!! Connection Issue\n",
      "2862 (page: 1/1) out of 2862 artists done.\r"
     ]
    }
   ],
   "source": [
    "all_artists_mbid = df['mbid'][8049:]\n",
    "num_artists = len(all_artists_mbid)\n",
    "sleep_interval = random.random()\n",
    "\n",
    "all_artist_release_credits = []\n",
    "for artist_num, mbid in enumerate(all_artists_mbid):\n",
    "    html = grab_url_text(f'https://musicbrainz.org/artist/{mbid}/releases')\n",
    "    try:\n",
    "        table = html.split('<ul class=\"pagination\">')[1]\n",
    "        table = table.split('</ul>')[0]\n",
    "        result = re.findall('>\\d<', table)\n",
    "        result = [ele[1:-1] for ele in result if ele.startswith('>') and ele.endswith('<')]\n",
    "        num_pages = int(result[-1])\n",
    "    except:\n",
    "        num_pages = 1\n",
    "    for page_num in range(1, num_pages+1):\n",
    "        try:\n",
    "            time.sleep(sleep_interval)\n",
    "            html = grab_url_text(f'https://musicbrainz.org/artist/{mbid}/releases?page={page_num}')\n",
    "            table = html.split('<tbody role=\"rowgroup\">')[1]\n",
    "            table = table.split('</tbody>')[0]\n",
    "            for line in table.split('</tr>'):\n",
    "                credit = line.split('<a href=\"/artist', maxsplit=1)[1]\n",
    "                credit = credit.split('</td>')[0]\n",
    "                credit = re.split('<bdi|/bdi>', credit)\n",
    "                result = [ele[1:-1] for ele in credit if ele.startswith('>') and ele.endswith('<')]\n",
    "                \n",
    "                entries = []\n",
    "                for cell in line.split('</td>'):\n",
    "                    try:\n",
    "                        entry = cell.split('<td role=\"cell\">', maxsplit=1)[1]\n",
    "                    except:\n",
    "                        entry = 0\n",
    "                    entries.append(entry)\n",
    "                num_tracks = entries[3]\n",
    "                num_tracks = num_tracks.split(' + ')\n",
    "                num_tracks = list(map(int, num_tracks))\n",
    "                num_tracks = sum(num_tracks)\n",
    "                result.append(num_tracks)\n",
    "                \n",
    "                if len(result) > 2:\n",
    "                    with open('all_artist_release_credits.txt', 'a', encoding='utf-8') as fout:\n",
    "                        for _string in result:\n",
    "                            fout.write(str(_string)+'<--->')\n",
    "                        #fout.writelines(result)\n",
    "                        fout.write('\\n')\n",
    "\n",
    "                    all_artist_release_credits.append(result)\n",
    "                #print(credit)\n",
    "        except:\n",
    "            pass\n",
    "        print(str(artist_num+1)+f' (page: {page_num}/{num_pages}) out of {num_artists} artists done.', end='\\r')\n",
    "        \n",
    "with open('all_artist_release_credits_full.txt', 'w', encoding='utf-8') as fout:\n",
    "    for _list in all_artist_release_credits:\n",
    "        for _string in _list:\n",
    "            fout.write(str(_string))\n",
    "            fout.write('<--->')\n",
    "        fout.write('\\n')"
   ]
  },
  {
   "cell_type": "code",
   "execution_count": 54,
   "id": "d283b04f",
   "metadata": {
    "tags": []
   },
   "outputs": [
    {
     "name": "stdout",
     "output_type": "stream",
     "text": [
      "0 ['Coldplay', 'コールドプレイ', 15]\n",
      "1 ['Coldplay', 'Kylie Minogue', 1]\n",
      "2 ['Coldplay', 'JAY-Z', 1]\n",
      "3 ['Drake', 'Coldplay', 10]\n",
      "4 ['Coldplay', 'Swedish House Mafia', 2]\n",
      "5 ['Coldplay', 'Rihanna', 1]\n",
      "6 ['Coldplay', 'Rihanna', 4]\n",
      "7 ['Coldplay', 'Rihanna', 4]\n",
      "8 ['Coldplay', 'Rihanna', 4]\n",
      "9 ['Coldplay', 'Rihanna', 4]\n",
      "10 ['Cat Power', 'Coldplay', 1]\n",
      "11 ['Coldplay', 'Alan Walker', 1]\n",
      "12 ['Coldplay', 'Beyoncé', 5]\n",
      "13 ['The Chainsmokers', 'Coldplay', 1]\n",
      "14 ['The Chainsmokers', 'Coldplay', 6]\n",
      "15 ['The Chainsmokers', 'Coldplay', 6]\n",
      "16 ['Coldplay', 'The Chainsmokers', 1]\n",
      "17 ['DJ Shadow', 'Radiohead', 2]\n",
      "18 ['Aquasky', 'Radiohead', 1]\n"
     ]
    }
   ],
   "source": [
    "for i, line in enumerate(all_artist_release_credits):\n",
    "    print(i, line)"
   ]
  }
 ],
 "metadata": {
  "kernelspec": {
   "display_name": "Python 3",
   "language": "python",
   "name": "python3"
  },
  "language_info": {
   "codemirror_mode": {
    "name": "ipython",
    "version": 3
   },
   "file_extension": ".py",
   "mimetype": "text/x-python",
   "name": "python",
   "nbconvert_exporter": "python",
   "pygments_lexer": "ipython3",
   "version": "3.9.2"
  }
 },
 "nbformat": 4,
 "nbformat_minor": 5
}
