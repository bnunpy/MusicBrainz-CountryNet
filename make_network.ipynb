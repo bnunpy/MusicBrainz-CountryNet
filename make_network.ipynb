{
 "cells": [
  {
   "cell_type": "code",
   "execution_count": 9,
   "id": "2f2854cd",
   "metadata": {},
   "outputs": [],
   "source": [
    "import pandas as pd\n",
    "import numpy as np\n",
    "import pickle\n",
    "import matplotlib.pyplot as plt\n",
    "import seaborn as sns\n",
    "import itertools\n",
    "\n",
    "import networkx as nx\n",
    "import igviz as ig"
   ]
  },
  {
   "cell_type": "code",
   "execution_count": 10,
   "id": "13abc1cd",
   "metadata": {
    "tags": []
   },
   "outputs": [],
   "source": [
    "coartists = []\n",
    "with open('artists_small.txt', 'r', encoding='utf-8') as f:\n",
    "    for line in f.readlines():\n",
    "        coartists.append(line)\n",
    "        #print(line)"
   ]
  },
  {
   "cell_type": "code",
   "execution_count": 11,
   "id": "8752687d",
   "metadata": {},
   "outputs": [
    {
     "data": {
      "text/plain": [
       "825"
      ]
     },
     "execution_count": 11,
     "metadata": {},
     "output_type": "execute_result"
    }
   ],
   "source": [
    "coartists_copy = set(coartists)\n",
    "coartists_copy = [line.split('<--->') for line in coartists_copy]\n",
    "coartists_copy = [line[:-1] for line in coartists_copy]\n",
    "for line in coartists_copy:\n",
    "    line[-1] = int(line[-1])\n",
    "    \n",
    "len(coartists_copy)"
   ]
  },
  {
   "cell_type": "code",
   "execution_count": 12,
   "id": "e1ec4edd",
   "metadata": {},
   "outputs": [],
   "source": [
    "filename = 'full_artists_dict'\n",
    "infile = open(filename,'rb')\n",
    "artist_dict = pickle.load(infile)\n",
    "infile.close()"
   ]
  },
  {
   "cell_type": "code",
   "execution_count": 13,
   "id": "de6ee42d",
   "metadata": {},
   "outputs": [
    {
     "data": {
      "text/plain": [
       "dict_keys(['country_mb', 'tags_mb', 'listeners_lastfm'])"
      ]
     },
     "execution_count": 13,
     "metadata": {},
     "output_type": "execute_result"
    }
   ],
   "source": [
    "artist_dict.keys()"
   ]
  },
  {
   "cell_type": "code",
   "execution_count": 14,
   "id": "c10fb4e9",
   "metadata": {},
   "outputs": [],
   "source": [
    "G = nx.Graph()\n",
    "for colab in coartists_copy:\n",
    "    if len(colab) > 1:\n",
    "        for combo in itertools.combinations(colab[:-1], 2):\n",
    "            if not G.has_edge(*combo):\n",
    "                G.add_edge(*combo,weight=colab[-1]/len(colab[:-1])) # distribute weight so if 2 artists colab, they each get half credit\n",
    "            else:\n",
    "                G[combo[0]][combo[1]]['weight'] += colab[-1]/len(colab[:-1])\n",
    "                \n",
    "nx.set_node_attributes(G, artist_dict['country_mb'], 'country')\n",
    "nx.set_node_attributes(G, artist_dict['tags_mb'], 'tags')\n",
    "nx.set_node_attributes(G, artist_dict['listeners_lastfm'], 'listeners')\n",
    "        \n",
    "nx.write_weighted_edgelist(G, 'artists_network.edgelist', encoding='utf-8', delimiter='<--->')"
   ]
  },
  {
   "cell_type": "code",
   "execution_count": 15,
   "id": "462cf084",
   "metadata": {},
   "outputs": [
    {
     "name": "stdout",
     "output_type": "stream",
     "text": [
      "Nodes:  601\n",
      "Edges:  1112\n"
     ]
    }
   ],
   "source": [
    "print('Nodes: ', len(G.nodes))\n",
    "print('Edges: ', len(G.edges))"
   ]
  },
  {
   "cell_type": "code",
   "execution_count": 16,
   "id": "25b0489a",
   "metadata": {},
   "outputs": [
    {
     "data": {
      "text/plain": [
       "{'country': 'United States',\n",
       " 'tags': ['synthpop', 'pop', 'american', 'hip-hop', 'hip hop'],\n",
       " 'listeners': 0.8158408136514885}"
      ]
     },
     "execution_count": 16,
     "metadata": {},
     "output_type": "execute_result"
    }
   ],
   "source": [
    "G.nodes['Kanye West']"
   ]
  },
  {
   "cell_type": "code",
   "execution_count": 40,
   "id": "fe8f3df2",
   "metadata": {},
   "outputs": [
    {
     "data": {
      "text/plain": [
       "<function matplotlib.pyplot.show(close=None, block=None)>"
      ]
     },
     "execution_count": 40,
     "metadata": {},
     "output_type": "execute_result"
    },
    {
     "data": {
      "image/png": "[encoded data removed]",
      "text/plain": [
       "<Figure size 864x648 with 1 Axes>"
      ]
     },
     "metadata": {
      "needs_background": "light"
     },
     "output_type": "display_data"
    }
   ],
   "source": [
    "plt.figure(figsize=(12,9))\n",
    "edge_weights = []\n",
    "for u, v, data in G.edges(data=True):\n",
    "    edge_weights.append(data['weight'])\n",
    "    \n",
    "plt.hist(edge_weights,500)\n",
    "plt.xlabel('edge weights')\n",
    "plt.show"
   ]
  },
  {
   "cell_type": "code",
   "execution_count": 29,
   "id": "8fd7769b",
   "metadata": {},
   "outputs": [
    {
     "data": {
      "text/plain": [
       "<Figure size 864x648 with 0 Axes>"
      ]
     },
     "metadata": {},
     "output_type": "display_data"
    }
   ],
   "source": [
    "plt.figure(figsize=(12,9))\n",
    "edge_weights = []\n",
    "idx = []\n",
    "for u, v, data in G.edges(data=True):\n",
    "    edge_weights.append(data['weight'])\n",
    "    \n",
    "#sns.histplot(data=edge_weights)\n",
    "#plt.xlabel('edge weights')\n",
    "#plt.show"
   ]
  },
  {
   "cell_type": "code",
   "execution_count": 37,
   "id": "d49da659",
   "metadata": {},
   "outputs": [
    {
     "data": {
      "text/plain": [
       "<function matplotlib.pyplot.show(close=None, block=None)>"
      ]
     },
     "execution_count": 37,
     "metadata": {},
     "output_type": "execute_result"
    },
    {
     "data": {
      "image/png": "[encoded data removed]",
      "text/plain": [
       "<Figure size 432x288 with 1 Axes>"
      ]
     },
     "metadata": {
      "needs_background": "light"
     },
     "output_type": "display_data"
    }
   ],
   "source": [
    "component_sizes = []\n",
    "for component in nx.connected_components(G):\n",
    "    component_sizes.append(len(component))\n",
    "    \n",
    "plt.hist(component_sizes,20)\n",
    "plt.xlabel('component sizes')\n",
    "plt.show"
   ]
  },
  {
   "cell_type": "code",
   "execution_count": 20,
   "id": "604c2a61",
   "metadata": {
    "tags": []
   },
   "outputs": [],
   "source": [
    "#for component in nx.connected_components(G):\n",
    "#    print(component, '\\n\\n\\n')"
   ]
  },
  {
   "cell_type": "code",
   "execution_count": 21,
   "id": "0ffbd90f",
   "metadata": {
    "tags": []
   },
   "outputs": [],
   "source": [
    "#for u, v, data in G.edges(data='weight'):\n",
    "#    print(u,v,data)"
   ]
  },
  {
   "cell_type": "code",
   "execution_count": 65,
   "id": "d4384199",
   "metadata": {},
   "outputs": [],
   "source": [
    "from pyvis.network import Network"
   ]
  },
  {
   "cell_type": "code",
   "execution_count": null,
   "id": "7908c888",
   "metadata": {},
   "outputs": [],
   "source": []
  },
  {
   "cell_type": "code",
   "execution_count": 122,
   "id": "5b40f583",
   "metadata": {},
   "outputs": [],
   "source": [
    "net = Network(height='1200px', width='1800px',notebook=False,\n",
    "              bgcolor='#222222', font_color='white')\n",
    "net.from_nx(G)"
   ]
  },
  {
   "cell_type": "code",
   "execution_count": 123,
   "id": "d07cd67a",
   "metadata": {},
   "outputs": [],
   "source": [
    "for i in range(len(net.nodes)):\n",
    "    try:\n",
    "        #print(i)\n",
    "        net.nodes[i]['size'] = net.nodes[i]['listeners']*100\n",
    "    except:\n",
    "        pass"
   ]
  },
  {
   "cell_type": "code",
   "execution_count": 124,
   "id": "87ac4cac",
   "metadata": {},
   "outputs": [
    {
     "data": {
      "text/plain": [
       "{'country': 'United Kingdom',\n",
       " 'tags': 'australian',\n",
       " 'listeners': 0.007422187626763729,\n",
       " 'size': 0.7422187626763729,\n",
       " 'id': 'Frank Ifield',\n",
       " 'label': 'Frank Ifield',\n",
       " 'shape': 'dot',\n",
       " 'font': {'color': 'white'}}"
      ]
     },
     "execution_count": 124,
     "metadata": {},
     "output_type": "execute_result"
    }
   ],
   "source": [
    "net.nodes[2]"
   ]
  },
  {
   "cell_type": "code",
   "execution_count": 125,
   "id": "90de3f06",
   "metadata": {},
   "outputs": [],
   "source": [
    "net.show_buttons(filter_=['physics'])\n",
    "net.show('graph.html')"
   ]
  },
  {
   "cell_type": "code",
   "execution_count": null,
   "id": "eeb1fc99",
   "metadata": {},
   "outputs": [],
   "source": []
  }
 ],
 "metadata": {
  "kernelspec": {
   "display_name": "Python 3",
   "language": "python",
   "name": "python3"
  },
  "language_info": {
   "codemirror_mode": {
    "name": "ipython",
    "version": 3
   },
   "file_extension": ".py",
   "mimetype": "text/x-python",
   "name": "python",
   "nbconvert_exporter": "python",
   "pygments_lexer": "ipython3",
   "version": "3.9.2"
  }
 },
 "nbformat": 4,
 "nbformat_minor": 5
}
