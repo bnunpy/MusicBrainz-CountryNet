{
 "cells": [
  {
   "cell_type": "code",
   "execution_count": 1,
   "id": "2f2854cd",
   "metadata": {},
   "outputs": [],
   "source": [
    "import pandas as pd\n",
    "import numpy as np\n",
    "import pickle\n",
    "import matplotlib.pyplot as plt\n",
    "import seaborn as sns\n",
    "import itertools\n",
    "\n",
    "import networkx as nx\n",
    "import igviz as ig"
   ]
  },
  {
   "cell_type": "code",
   "execution_count": 2,
   "id": "13abc1cd",
   "metadata": {
    "tags": []
   },
   "outputs": [
    {
     "data": {
      "text/plain": [
       "96600"
      ]
     },
     "execution_count": 2,
     "metadata": {},
     "output_type": "execute_result"
    }
   ],
   "source": [
    "coartists = []\n",
    "with open('all_artist_release_credits_cleaned.txt', 'r', encoding='utf-8') as f:\n",
    "    for line in f.readlines():\n",
    "        coartists.append(line)\n",
    "        #print(line)\n",
    "len(coartists)"
   ]
  },
  {
   "cell_type": "code",
   "execution_count": 3,
   "id": "8752687d",
   "metadata": {},
   "outputs": [
    {
     "data": {
      "text/plain": [
       "56967"
      ]
     },
     "execution_count": 3,
     "metadata": {},
     "output_type": "execute_result"
    }
   ],
   "source": [
    "coartists = set(coartists)\n",
    "coartists = [line.split('<--->') for line in coartists]\n",
    "coartists = [line[:-1] for line in coartists]\n",
    "for line in coartists:\n",
    "    line[-1] = int(line[-1])\n",
    "    \n",
    "len(coartists)"
   ]
  },
  {
   "cell_type": "code",
   "execution_count": 4,
   "id": "e1ec4edd",
   "metadata": {},
   "outputs": [],
   "source": [
    "filename = 'cleaned_artists_dict'\n",
    "infile = open(filename,'rb')\n",
    "artist_dict = pickle.load(infile)\n",
    "infile.close()"
   ]
  },
  {
   "cell_type": "code",
   "execution_count": 5,
   "id": "de6ee42d",
   "metadata": {},
   "outputs": [
    {
     "data": {
      "text/plain": [
       "dict_keys(['country_mb', 'tags_mb', 'listeners_lastfm'])"
      ]
     },
     "execution_count": 5,
     "metadata": {},
     "output_type": "execute_result"
    }
   ],
   "source": [
    "artist_dict.keys()"
   ]
  },
  {
   "cell_type": "code",
   "execution_count": 6,
   "id": "0b34d8dd-ff72-4701-92e5-c8f791de7bed",
   "metadata": {
    "tags": []
   },
   "outputs": [],
   "source": [
    "#artist_dict"
   ]
  },
  {
   "cell_type": "code",
   "execution_count": 7,
   "id": "c10fb4e9",
   "metadata": {},
   "outputs": [
    {
     "name": "stdout",
     "output_type": "stream",
     "text": [
      "# artists with no data:  29643\n"
     ]
    }
   ],
   "source": [
    "G = nx.Graph()\n",
    "for colab in coartists:\n",
    "    if len(colab) > 1:\n",
    "        for combo in itertools.combinations(colab[:-1], 2):\n",
    "            if not G.has_edge(*combo):\n",
    "                G.add_edge(*combo,weight=colab[-1]/len(colab[:-1])) # distribute weight so if 2 artists colab, they each get half credit\n",
    "            else:\n",
    "                G[combo[0]][combo[1]]['weight'] += colab[-1]/len(colab[:-1])\n",
    "                \n",
    "nx.set_node_attributes(G, artist_dict['country_mb'], 'country')\n",
    "nx.set_node_attributes(G, artist_dict['tags_mb'], 'tags')\n",
    "nx.set_node_attributes(G, artist_dict['listeners_lastfm'], 'listeners')\n",
    "\n",
    "# get artist nodes with no data\n",
    "artists_with_no_data = []\n",
    "for n, data in G.nodes(data=True):\n",
    "    if not data:\n",
    "        artists_with_no_data.append(n)\n",
    "print('# artists with no data: ', len(artists_with_no_data))\n",
    "\n",
    "# remove artist nodes with no data\n",
    "for n in artists_with_no_data:\n",
    "    G.remove_node(n)\n",
    "\n",
    "# save network\n",
    "net_name = 'artists_network_norm_all_attrs'\n",
    "nx.write_weighted_edgelist(G, net_name+'.edgelist', encoding='utf-8', delimiter='<--->')\n",
    "nx.write_gml(G, net_name+'.gml')"
   ]
  },
  {
   "cell_type": "code",
   "execution_count": 81,
   "id": "462cf084",
   "metadata": {},
   "outputs": [
    {
     "name": "stdout",
     "output_type": "stream",
     "text": [
      "Nodes:  12761\n",
      "Edges:  31473\n"
     ]
    }
   ],
   "source": [
    "print('Nodes: ', len(G.nodes))\n",
    "print('Edges: ', len(G.edges))"
   ]
  },
  {
   "cell_type": "code",
   "execution_count": 82,
   "id": "25b0489a",
   "metadata": {},
   "outputs": [
    {
     "data": {
      "text/plain": [
       "{'country': 'united states', 'tags': ['pop'], 'listeners': 0.8158408136514887}"
      ]
     },
     "execution_count": 82,
     "metadata": {},
     "output_type": "execute_result"
    }
   ],
   "source": [
    "G.nodes['kanye west']"
   ]
  },
  {
   "cell_type": "code",
   "execution_count": 83,
   "id": "ce87478f-3aad-4f40-a86f-d18944b85c92",
   "metadata": {},
   "outputs": [
    {
     "name": "stdout",
     "output_type": "stream",
     "text": [
      "# unique_genre_tags:  54\n"
     ]
    }
   ],
   "source": [
    "# Get list of unique genre tags\n",
    "unique_genre_tags = []\n",
    "for n, data in G.nodes(data=True):\n",
    "    unique_genre_tags.append(G.nodes[n]['tags'])\n",
    "    #print(G.nodes[n]['tags'])\n",
    "\n",
    "unique_genre_tags = [str(tag) for tag in unique_genre_tags]\n",
    "unique_genre_tags = set(unique_genre_tags)\n",
    "print('# unique_genre_tags: ',len(unique_genre_tags))"
   ]
  },
  {
   "cell_type": "code",
   "execution_count": 75,
   "id": "00a0abe4-6a6a-4fa3-ad1a-95fbca298a30",
   "metadata": {
    "collapsed": true,
    "jupyter": {
     "outputs_hidden": true
    },
    "tags": []
   },
   "outputs": [
    {
     "data": {
      "text/plain": [
       "{\"['00s']\",\n",
       " \"['10s']\",\n",
       " \"['1980s']\",\n",
       " \"['2000s']\",\n",
       " \"['60s']\",\n",
       " \"['70s']\",\n",
       " \"['80s']\",\n",
       " \"['90s']\",\n",
       " \"['alternative country']\",\n",
       " \"['alternative dance']\",\n",
       " \"['alternative hip hop']\",\n",
       " \"['alternative metal']\",\n",
       " \"['alternative pop']\",\n",
       " \"['alternative r&b']\",\n",
       " \"['alternative rap']\",\n",
       " \"['alternative rock']\",\n",
       " \"['alternative']\",\n",
       " \"['art rock']\",\n",
       " \"['classic rock']\",\n",
       " \"['classical']\",\n",
       " \"['contemporary country']\",\n",
       " \"['country blues']\",\n",
       " \"['country pop']\",\n",
       " \"['country rock']\",\n",
       " \"['country']\",\n",
       " \"['dance and electronica']\",\n",
       " \"['dance']\",\n",
       " \"['electro house']\",\n",
       " \"['electronic rock']\",\n",
       " \"['electronic']\",\n",
       " \"['experimental rock']\",\n",
       " \"['folk rock']\",\n",
       " \"['gangsta rap']\",\n",
       " \"['gospel']\",\n",
       " \"['hard rock']\",\n",
       " \"['heavy metal']\",\n",
       " \"['hip hop']\",\n",
       " \"['house']\",\n",
       " \"['jazz']\",\n",
       " \"['metal']\",\n",
       " \"['new metal']\",\n",
       " \"['pop rap']\",\n",
       " \"['pop rock']\",\n",
       " \"['pop']\",\n",
       " \"['punk rock']\",\n",
       " \"['r&b']\",\n",
       " \"['rap rock']\",\n",
       " \"['rap']\",\n",
       " \"['rock']\",\n",
       " \"['soft rock']\",\n",
       " \"['spanish guitar']\",\n",
       " \"['spanish']\",\n",
       " \"['tech house']\",\n",
       " \"['trap']\"}"
      ]
     },
     "execution_count": 75,
     "metadata": {},
     "output_type": "execute_result"
    }
   ],
   "source": [
    "unique_genre_tags"
   ]
  },
  {
   "cell_type": "code",
   "execution_count": null,
   "id": "03f1a635-071a-4b38-ad8c-0c2d3f407b32",
   "metadata": {},
   "outputs": [],
   "source": [
    "# == 'country'"
   ]
  },
  {
   "cell_type": "code",
   "execution_count": 87,
   "id": "5641b447-9b69-40fc-905d-f732ebbb54a1",
   "metadata": {},
   "outputs": [
    {
     "name": "stdout",
     "output_type": "stream",
     "text": [
      "# country_artists:  282\n",
      "Nodes:  282\n",
      "Edges:  132\n"
     ]
    }
   ],
   "source": [
    "country_artists = []\n",
    "for n, data in G.nodes(data=True):\n",
    "    for tag in G.nodes[n]['tags']:\n",
    "        if 'country' in tag:\n",
    "            country_artists.append(n)\n",
    "        \n",
    "print('# country_artists: ',len(country_artists))\n",
    "\n",
    "G_country = G.subgraph(country_artists)\n",
    "print('Nodes: ', len(G_country.nodes))\n",
    "print('Edges: ', len(G_country.edges))\n",
    "\n",
    "net_name = 'country_network_norm_all_attrs'\n",
    "nx.write_weighted_edgelist(G_country, net_name+'.edgelist', encoding='utf-8', delimiter='<--->')\n",
    "nx.write_gml(G_country, net_name+'.gml')"
   ]
  },
  {
   "cell_type": "code",
   "execution_count": 88,
   "id": "0bf3c5b1-8aa4-4c85-8673-eea71c73eb3a",
   "metadata": {},
   "outputs": [
    {
     "name": "stdout",
     "output_type": "stream",
     "text": [
      "# rock_artists:  2528\n",
      "Nodes:  2528\n",
      "Edges:  1636\n"
     ]
    }
   ],
   "source": [
    "rock_artists = []\n",
    "for n, data in G.nodes(data=True):\n",
    "    for tag in G.nodes[n]['tags']:\n",
    "        if 'rock' in tag:\n",
    "            rock_artists.append(n)\n",
    "        \n",
    "print('# rock_artists: ',len(rock_artists))\n",
    "\n",
    "G_rock = G.subgraph(rock_artists)\n",
    "print('Nodes: ', len(G_rock.nodes))\n",
    "print('Edges: ', len(G_rock.edges))\n",
    "\n",
    "net_name = 'rock_network_norm_all_attrs'\n",
    "nx.write_weighted_edgelist(G_rock, net_name+'.edgelist', encoding='utf-8', delimiter='<--->')\n",
    "nx.write_gml(G_rock, net_name+'.gml')"
   ]
  },
  {
   "cell_type": "code",
   "execution_count": null,
   "id": "c35f4a8e-5250-418c-b1fa-290ea9644b81",
   "metadata": {},
   "outputs": [],
   "source": []
  }
 ],
 "metadata": {
  "kernelspec": {
   "display_name": "Python [conda env:nets_env]",
   "language": "python",
   "name": "conda-env-nets_env-py"
  },
  "language_info": {
   "codemirror_mode": {
    "name": "ipython",
    "version": 3
   },
   "file_extension": ".py",
   "mimetype": "text/x-python",
   "name": "python",
   "nbconvert_exporter": "python",
   "pygments_lexer": "ipython3",
   "version": "3.9.2"
  }
 },
 "nbformat": 4,
 "nbformat_minor": 5
}
