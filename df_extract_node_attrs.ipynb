{
 "cells": [
  {
   "cell_type": "code",
   "execution_count": 1,
   "id": "54295363",
   "metadata": {},
   "outputs": [],
   "source": [
    "import pandas as pd\n",
    "import numpy as np\n",
    "import pickle\n",
    "\n",
    "import networkx as nx"
   ]
  },
  {
   "cell_type": "code",
   "execution_count": 18,
   "id": "52d5e997",
   "metadata": {},
   "outputs": [],
   "source": [
    "# Procesing\n",
    "# 1. keep only first idx for non-unique artist names\n",
    "# 2. fill NAs with secondary col vals\n",
    "# 3. drop unused cols\n",
    "# 4. convert to dict\n",
    "# 5. parse tags"
   ]
  },
  {
   "cell_type": "code",
   "execution_count": 2,
   "id": "f861cf62",
   "metadata": {},
   "outputs": [],
   "source": [
    "df_original = pd.read_csv('artists.csv', true_values=['TRUE'], false_values=['FALSE'], low_memory=False)"
   ]
  },
  {
   "cell_type": "code",
   "execution_count": 3,
   "id": "1b8adafb",
   "metadata": {},
   "outputs": [
    {
     "data": {
      "text/html": [
       "<div>\n",
       "<style scoped>\n",
       "    .dataframe tbody tr th:only-of-type {\n",
       "        vertical-align: middle;\n",
       "    }\n",
       "\n",
       "    .dataframe tbody tr th {\n",
       "        vertical-align: top;\n",
       "    }\n",
       "\n",
       "    .dataframe thead th {\n",
       "        text-align: right;\n",
       "    }\n",
       "</style>\n",
       "<table border=\"1\" class=\"dataframe\">\n",
       "  <thead>\n",
       "    <tr style=\"text-align: right;\">\n",
       "      <th></th>\n",
       "      <th>mbid</th>\n",
       "      <th>artist_mb</th>\n",
       "      <th>artist_lastfm</th>\n",
       "      <th>country_mb</th>\n",
       "      <th>country_lastfm</th>\n",
       "      <th>tags_mb</th>\n",
       "      <th>tags_lastfm</th>\n",
       "      <th>listeners_lastfm</th>\n",
       "      <th>scrobbles_lastfm</th>\n",
       "      <th>ambiguous_artist</th>\n",
       "    </tr>\n",
       "  </thead>\n",
       "  <tbody>\n",
       "    <tr>\n",
       "      <th>0</th>\n",
       "      <td>cc197bad-dc9c-440d-a5b5-d52ba2e14234</td>\n",
       "      <td>Coldplay</td>\n",
       "      <td>Coldplay</td>\n",
       "      <td>United Kingdom</td>\n",
       "      <td>United Kingdom</td>\n",
       "      <td>rock; pop; alternative rock; british; uk; brit...</td>\n",
       "      <td>rock; alternative; britpop; alternative rock; ...</td>\n",
       "      <td>5381567.0</td>\n",
       "      <td>360111850.0</td>\n",
       "      <td>False</td>\n",
       "    </tr>\n",
       "    <tr>\n",
       "      <th>1</th>\n",
       "      <td>a74b1b7f-71a5-4011-9441-d0b5e4122711</td>\n",
       "      <td>Radiohead</td>\n",
       "      <td>Radiohead</td>\n",
       "      <td>United Kingdom</td>\n",
       "      <td>United Kingdom</td>\n",
       "      <td>rock; electronic; alternative rock; british; g...</td>\n",
       "      <td>alternative; alternative rock; rock; indie; el...</td>\n",
       "      <td>4732528.0</td>\n",
       "      <td>499548797.0</td>\n",
       "      <td>False</td>\n",
       "    </tr>\n",
       "    <tr>\n",
       "      <th>2</th>\n",
       "      <td>8bfac288-ccc5-448d-9573-c33ea2aa5c30</td>\n",
       "      <td>Red Hot Chili Peppers</td>\n",
       "      <td>Red Hot Chili Peppers</td>\n",
       "      <td>United States</td>\n",
       "      <td>United States</td>\n",
       "      <td>rock; alternative rock; 80s; 90s; rap; metal; ...</td>\n",
       "      <td>rock; alternative rock; alternative; Funk Rock...</td>\n",
       "      <td>4620835.0</td>\n",
       "      <td>293784041.0</td>\n",
       "      <td>False</td>\n",
       "    </tr>\n",
       "    <tr>\n",
       "      <th>3</th>\n",
       "      <td>73e5e69d-3554-40d8-8516-00cb38737a1c</td>\n",
       "      <td>Rihanna</td>\n",
       "      <td>Rihanna</td>\n",
       "      <td>United States</td>\n",
       "      <td>Barbados; United States</td>\n",
       "      <td>pop; dance; hip hop; reggae; contemporary r b;...</td>\n",
       "      <td>pop; rnb; female vocalists; dance; Hip-Hop; Ri...</td>\n",
       "      <td>4558193.0</td>\n",
       "      <td>199248986.0</td>\n",
       "      <td>False</td>\n",
       "    </tr>\n",
       "    <tr>\n",
       "      <th>4</th>\n",
       "      <td>b95ce3ff-3d05-4e87-9e01-c97b66af13d4</td>\n",
       "      <td>Eminem</td>\n",
       "      <td>Eminem</td>\n",
       "      <td>United States</td>\n",
       "      <td>United States</td>\n",
       "      <td>turkish; rap; american; hip-hop; hip hop; hiph...</td>\n",
       "      <td>rap; Hip-Hop; Eminem; hip hop; pop; american; ...</td>\n",
       "      <td>4517997.0</td>\n",
       "      <td>199507511.0</td>\n",
       "      <td>False</td>\n",
       "    </tr>\n",
       "  </tbody>\n",
       "</table>\n",
       "</div>"
      ],
      "text/plain": [
       "                                   mbid              artist_mb  \\\n",
       "0  cc197bad-dc9c-440d-a5b5-d52ba2e14234               Coldplay   \n",
       "1  a74b1b7f-71a5-4011-9441-d0b5e4122711              Radiohead   \n",
       "2  8bfac288-ccc5-448d-9573-c33ea2aa5c30  Red Hot Chili Peppers   \n",
       "3  73e5e69d-3554-40d8-8516-00cb38737a1c                Rihanna   \n",
       "4  b95ce3ff-3d05-4e87-9e01-c97b66af13d4                 Eminem   \n",
       "\n",
       "           artist_lastfm      country_mb           country_lastfm  \\\n",
       "0               Coldplay  United Kingdom           United Kingdom   \n",
       "1              Radiohead  United Kingdom           United Kingdom   \n",
       "2  Red Hot Chili Peppers   United States            United States   \n",
       "3                Rihanna   United States  Barbados; United States   \n",
       "4                 Eminem   United States            United States   \n",
       "\n",
       "                                             tags_mb  \\\n",
       "0  rock; pop; alternative rock; british; uk; brit...   \n",
       "1  rock; electronic; alternative rock; british; g...   \n",
       "2  rock; alternative rock; 80s; 90s; rap; metal; ...   \n",
       "3  pop; dance; hip hop; reggae; contemporary r b;...   \n",
       "4  turkish; rap; american; hip-hop; hip hop; hiph...   \n",
       "\n",
       "                                         tags_lastfm  listeners_lastfm  \\\n",
       "0  rock; alternative; britpop; alternative rock; ...         5381567.0   \n",
       "1  alternative; alternative rock; rock; indie; el...         4732528.0   \n",
       "2  rock; alternative rock; alternative; Funk Rock...         4620835.0   \n",
       "3  pop; rnb; female vocalists; dance; Hip-Hop; Ri...         4558193.0   \n",
       "4  rap; Hip-Hop; Eminem; hip hop; pop; american; ...         4517997.0   \n",
       "\n",
       "   scrobbles_lastfm  ambiguous_artist  \n",
       "0       360111850.0             False  \n",
       "1       499548797.0             False  \n",
       "2       293784041.0             False  \n",
       "3       199248986.0             False  \n",
       "4       199507511.0             False  "
      ]
     },
     "execution_count": 3,
     "metadata": {},
     "output_type": "execute_result"
    }
   ],
   "source": [
    "df = df_original.copy()\n",
    "df.head()"
   ]
  },
  {
   "cell_type": "code",
   "execution_count": 22,
   "id": "434979ff",
   "metadata": {},
   "outputs": [
    {
     "data": {
      "text/plain": [
       "1466083"
      ]
     },
     "execution_count": 22,
     "metadata": {},
     "output_type": "execute_result"
    }
   ],
   "source": [
    "len(df)"
   ]
  },
  {
   "cell_type": "code",
   "execution_count": 23,
   "id": "3a20acc8",
   "metadata": {},
   "outputs": [
    {
     "data": {
      "text/plain": [
       "mbid                 object\n",
       "artist_mb            object\n",
       "artist_lastfm        object\n",
       "country_mb           object\n",
       "country_lastfm       object\n",
       "tags_mb              object\n",
       "tags_lastfm          object\n",
       "listeners_lastfm    float64\n",
       "scrobbles_lastfm    float64\n",
       "ambiguous_artist       bool\n",
       "dtype: object"
      ]
     },
     "execution_count": 23,
     "metadata": {},
     "output_type": "execute_result"
    }
   ],
   "source": [
    "df.dtypes"
   ]
  },
  {
   "cell_type": "code",
   "execution_count": 24,
   "id": "628e87f2",
   "metadata": {},
   "outputs": [
    {
     "data": {
      "text/plain": [
       "mbid                      0\n",
       "artist_mb                 8\n",
       "artist_lastfm        479327\n",
       "country_mb           803715\n",
       "country_lastfm      1254585\n",
       "tags_mb             1346137\n",
       "tags_lastfm         1085008\n",
       "listeners_lastfm     479323\n",
       "scrobbles_lastfm     479323\n",
       "ambiguous_artist          0\n",
       "dtype: int64"
      ]
     },
     "execution_count": 24,
     "metadata": {},
     "output_type": "execute_result"
    }
   ],
   "source": [
    "df.isna().sum()"
   ]
  },
  {
   "cell_type": "code",
   "execution_count": 4,
   "id": "9d8a5d12",
   "metadata": {},
   "outputs": [],
   "source": [
    "df.drop_duplicates(subset=['artist_lastfm'], inplace=True)"
   ]
  },
  {
   "cell_type": "code",
   "execution_count": 5,
   "id": "f2bd9279",
   "metadata": {},
   "outputs": [
    {
     "data": {
      "text/plain": [
       "mbid                     0\n",
       "artist_mb                4\n",
       "artist_lastfm            1\n",
       "country_mb          537840\n",
       "country_lastfm      776962\n",
       "tags_mb             859283\n",
       "tags_lastfm         605205\n",
       "listeners_lastfm         0\n",
       "scrobbles_lastfm         0\n",
       "ambiguous_artist         0\n",
       "dtype: int64"
      ]
     },
     "execution_count": 5,
     "metadata": {},
     "output_type": "execute_result"
    }
   ],
   "source": [
    "df.isna().sum()"
   ]
  },
  {
   "cell_type": "code",
   "execution_count": 6,
   "id": "a19a4ab2",
   "metadata": {},
   "outputs": [
    {
     "data": {
      "text/plain": [
       "mbid                     0\n",
       "artist_mb                1\n",
       "artist_lastfm            1\n",
       "country_mb          469567\n",
       "country_lastfm      776962\n",
       "tags_mb             568592\n",
       "tags_lastfm         605205\n",
       "listeners_lastfm         0\n",
       "scrobbles_lastfm         0\n",
       "ambiguous_artist         0\n",
       "dtype: int64"
      ]
     },
     "execution_count": 6,
     "metadata": {},
     "output_type": "execute_result"
    }
   ],
   "source": [
    "df['artist_mb'].fillna(df['artist_lastfm'], inplace=True)\n",
    "df['country_mb'].fillna(df['country_lastfm'], inplace=True)\n",
    "df['tags_mb'].fillna(df['tags_lastfm'], inplace=True)\n",
    "df.isna().sum()"
   ]
  },
  {
   "cell_type": "code",
   "execution_count": 7,
   "id": "099d3962",
   "metadata": {},
   "outputs": [],
   "source": [
    "df.set_index(df['artist_mb'], inplace=True)\n",
    "df.drop(labels=['artist_mb','mbid','artist_lastfm','country_lastfm','tags_lastfm','scrobbles_lastfm','ambiguous_artist'],\n",
    "        axis=1, inplace=True)\n",
    "df['listeners_lastfm'] = df['listeners_lastfm'] /df['listeners_lastfm'].abs().max()"
   ]
  },
  {
   "cell_type": "code",
   "execution_count": 8,
   "id": "3eba2a49",
   "metadata": {},
   "outputs": [
    {
     "data": {
      "text/html": [
       "<div>\n",
       "<style scoped>\n",
       "    .dataframe tbody tr th:only-of-type {\n",
       "        vertical-align: middle;\n",
       "    }\n",
       "\n",
       "    .dataframe tbody tr th {\n",
       "        vertical-align: top;\n",
       "    }\n",
       "\n",
       "    .dataframe thead th {\n",
       "        text-align: right;\n",
       "    }\n",
       "</style>\n",
       "<table border=\"1\" class=\"dataframe\">\n",
       "  <thead>\n",
       "    <tr style=\"text-align: right;\">\n",
       "      <th></th>\n",
       "      <th>country_mb</th>\n",
       "      <th>tags_mb</th>\n",
       "      <th>listeners_lastfm</th>\n",
       "    </tr>\n",
       "    <tr>\n",
       "      <th>artist_mb</th>\n",
       "      <th></th>\n",
       "      <th></th>\n",
       "      <th></th>\n",
       "    </tr>\n",
       "  </thead>\n",
       "  <tbody>\n",
       "    <tr>\n",
       "      <th>Coldplay</th>\n",
       "      <td>United Kingdom</td>\n",
       "      <td>rock; pop; alternative rock; british; uk; brit...</td>\n",
       "      <td>1.000000</td>\n",
       "    </tr>\n",
       "    <tr>\n",
       "      <th>Radiohead</th>\n",
       "      <td>United Kingdom</td>\n",
       "      <td>rock; electronic; alternative rock; british; g...</td>\n",
       "      <td>0.879396</td>\n",
       "    </tr>\n",
       "    <tr>\n",
       "      <th>Red Hot Chili Peppers</th>\n",
       "      <td>United States</td>\n",
       "      <td>rock; alternative rock; 80s; 90s; rap; metal; ...</td>\n",
       "      <td>0.858641</td>\n",
       "    </tr>\n",
       "    <tr>\n",
       "      <th>Rihanna</th>\n",
       "      <td>United States</td>\n",
       "      <td>pop; dance; hip hop; reggae; contemporary r b;...</td>\n",
       "      <td>0.847001</td>\n",
       "    </tr>\n",
       "    <tr>\n",
       "      <th>Eminem</th>\n",
       "      <td>United States</td>\n",
       "      <td>turkish; rap; american; hip-hop; hip hop; hiph...</td>\n",
       "      <td>0.839532</td>\n",
       "    </tr>\n",
       "  </tbody>\n",
       "</table>\n",
       "</div>"
      ],
      "text/plain": [
       "                           country_mb  \\\n",
       "artist_mb                               \n",
       "Coldplay               United Kingdom   \n",
       "Radiohead              United Kingdom   \n",
       "Red Hot Chili Peppers   United States   \n",
       "Rihanna                 United States   \n",
       "Eminem                  United States   \n",
       "\n",
       "                                                                 tags_mb  \\\n",
       "artist_mb                                                                  \n",
       "Coldplay               rock; pop; alternative rock; british; uk; brit...   \n",
       "Radiohead              rock; electronic; alternative rock; british; g...   \n",
       "Red Hot Chili Peppers  rock; alternative rock; 80s; 90s; rap; metal; ...   \n",
       "Rihanna                pop; dance; hip hop; reggae; contemporary r b;...   \n",
       "Eminem                 turkish; rap; american; hip-hop; hip hop; hiph...   \n",
       "\n",
       "                       listeners_lastfm  \n",
       "artist_mb                                \n",
       "Coldplay                       1.000000  \n",
       "Radiohead                      0.879396  \n",
       "Red Hot Chili Peppers          0.858641  \n",
       "Rihanna                        0.847001  \n",
       "Eminem                         0.839532  "
      ]
     },
     "execution_count": 8,
     "metadata": {},
     "output_type": "execute_result"
    }
   ],
   "source": [
    "df.head()"
   ]
  },
  {
   "cell_type": "code",
   "execution_count": 14,
   "id": "da219a10",
   "metadata": {},
   "outputs": [],
   "source": [
    "#df_scaled_listens = df.copy()\n",
    "#df_scaled_listens['listeners_lastfm'] = df_scaled_listens['listeners_lastfm'] /df_scaled_listens['listeners_lastfm'].abs().max()\n",
    "#df_scaled_listens.head()"
   ]
  },
  {
   "cell_type": "code",
   "execution_count": 9,
   "id": "5e428510",
   "metadata": {
    "tags": []
   },
   "outputs": [
    {
     "name": "stderr",
     "output_type": "stream",
     "text": [
      "<ipython-input-9-117c9933977c>:1: UserWarning: DataFrame columns are not unique, some columns will be omitted.\n",
      "  artist_dict = df.T.to_dict(orient='index')\n"
     ]
    }
   ],
   "source": [
    "artist_dict = df.T.to_dict(orient='index')\n",
    "\n",
    "for artist, country in artist_dict['country_mb'].items():\n",
    "    country = str(country)\n",
    "    country = country.split(';')\n",
    "    country = [c.strip() for c in country]\n",
    "    artist_dict['country_mb'][artist] = country[-1]\n",
    "    \n",
    "for artist, tags in artist_dict['tags_mb'].items():\n",
    "    tags = str(tags)\n",
    "    tags = tags.split(';')\n",
    "    tags = [tag.strip() for tag in tags]\n",
    "    artist_dict['tags_mb'][artist] = tags[0:5] # select slice of tags we want"
   ]
  },
  {
   "cell_type": "code",
   "execution_count": 334,
   "id": "e3144a8e",
   "metadata": {
    "tags": []
   },
   "outputs": [
    {
     "name": "stdout",
     "output_type": "stream",
     "text": [
      "4222\n"
     ]
    }
   ],
   "source": [
    "#country subgenres: 'alternative country', 'country rock', 'country pop', 'contemporary country', 'bro-country',\n",
    "#                   'neo-traditionalist country', 'traditional country', 'alt-country', 'outlaw country'"
   ]
  },
  {
   "cell_type": "code",
   "execution_count": 10,
   "id": "def0481a",
   "metadata": {},
   "outputs": [
    {
     "data": {
      "text/plain": [
       "956369"
      ]
     },
     "execution_count": 10,
     "metadata": {},
     "output_type": "execute_result"
    }
   ],
   "source": [
    "len(artist_dict['tags_mb'])"
   ]
  },
  {
   "cell_type": "code",
   "execution_count": 11,
   "id": "90eabf8b",
   "metadata": {},
   "outputs": [],
   "source": [
    "filename = 'full_artists_dict'\n",
    "outfile = open(filename, 'wb')\n",
    "pickle.dump(artist_dict, outfile)\n",
    "outfile.close()"
   ]
  },
  {
   "cell_type": "code",
   "execution_count": null,
   "id": "de85a7aa",
   "metadata": {},
   "outputs": [],
   "source": []
  }
 ],
 "metadata": {
  "kernelspec": {
   "display_name": "Python 3",
   "language": "python",
   "name": "python3"
  },
  "language_info": {
   "codemirror_mode": {
    "name": "ipython",
    "version": 3
   },
   "file_extension": ".py",
   "mimetype": "text/x-python",
   "name": "python",
   "nbconvert_exporter": "python",
   "pygments_lexer": "ipython3",
   "version": "3.9.2"
  }
 },
 "nbformat": 4,
 "nbformat_minor": 5
}
